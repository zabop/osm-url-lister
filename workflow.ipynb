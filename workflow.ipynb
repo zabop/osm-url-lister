{
 "cells": [
  {
   "cell_type": "code",
   "execution_count": 19,
   "metadata": {},
   "outputs": [],
   "source": [
    "query = '[out:json][timeout:50];'\n",
    "query +='area(3600406091)->.searchArea;'\n",
    "query +='nwr[\"contact:website\"~\".*\"](area.searchArea);'\n",
    "query +='out body;'"
   ]
  },
  {
   "cell_type": "code",
   "execution_count": 20,
   "metadata": {},
   "outputs": [],
   "source": [
    "import requests\n",
    "OVERPASS_URL = \"http://overpass-api.de/api/interpreter\"\n",
    "resp = requests.post(OVERPASS_URL, data={\"data\": query}).json()\n"
   ]
  },
  {
   "cell_type": "code",
   "execution_count": 26,
   "metadata": {},
   "outputs": [],
   "source": [
    "types = [e['type'] for e in resp['elements']]\n",
    "ids = [e['id'] for e in resp['elements']]\n",
    "websites = [e['tags']['contact:website'] for e in resp['elements']]"
   ]
  },
  {
   "cell_type": "code",
   "execution_count": 27,
   "metadata": {},
   "outputs": [],
   "source": [
    "import pandas as pd\n",
    "\n",
    "pd.DataFrame({'type': types, 'id': ids, 'website': websites}).to_csv('osm-urls.csv', index=False)"
   ]
  },
  {
   "cell_type": "code",
   "execution_count": 28,
   "metadata": {},
   "outputs": [],
   "source": [
    "!open ."
   ]
  },
  {
   "cell_type": "markdown",
   "metadata": {},
   "source": [
    "In Google Sheets: Extensions -> Apps Script, then save this script:\n",
    "\n",
    "    function getHttpResponseCode(url) {\n",
    "        try {\n",
    "            var response = UrlFetchApp.fetch(url, {muteHttpExceptions: true});\n",
    "            return response.getResponseCode();\n",
    "        } catch (e) {\n",
    "            return \"Error\";\n",
    "        }\n",
    "    }\n",
    "\n",
    "Then you can use `getHttpResponseCode` to check website status."
   ]
  },
  {
   "cell_type": "code",
   "execution_count": 30,
   "metadata": {},
   "outputs": [
    {
     "name": "stdout",
     "output_type": "stream",
     "text": [
      "Overwriting affected.txt\n"
     ]
    }
   ],
   "source": [
    "%%writefile affected.txt\n",
    "n1948273754,n1948277546,n1948277549,w111373784,w180613294"
   ]
  },
  {
   "cell_type": "markdown",
   "metadata": {
    "vscode": {
     "languageId": "raw"
    }
   },
   "source": [
    "Then level0."
   ]
  }
 ],
 "metadata": {
  "kernelspec": {
   "display_name": "dev311_2",
   "language": "python",
   "name": "dev311_2"
  },
  "language_info": {
   "codemirror_mode": {
    "name": "ipython",
    "version": 3
   },
   "file_extension": ".py",
   "mimetype": "text/x-python",
   "name": "python",
   "nbconvert_exporter": "python",
   "pygments_lexer": "ipython3",
   "version": "3.11.11"
  }
 },
 "nbformat": 4,
 "nbformat_minor": 2
}
