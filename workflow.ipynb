{
 "cells": [
  {
   "cell_type": "code",
   "execution_count": 47,
   "metadata": {},
   "outputs": [],
   "source": [
    "import requests\n",
    "import json\n",
    "\n",
    "query = '[out:json][timeout:50];'\n",
    "query +='area(3601690324)->.searchArea;'\n",
    "query +='nwr[\"contact:website\"~\".*\"](area.searchArea);'\n",
    "query +='out body;'\n",
    "\n",
    "\n",
    "OVERPASS_URL = \"http://overpass-api.de/api/interpreter\"\n",
    "resp = requests.post(OVERPASS_URL, data={\"data\": query}).json()\n",
    "\n",
    "types = [e['type'] for e in resp['elements']]\n",
    "ids = [e['id'] for e in resp['elements']]\n",
    "\n",
    "level0ids = [f\"{t[0]}{i}\" for t, i in zip(types, ids)]\n",
    "\n",
    "urls = [e['tags']['contact:website'] for e in resp['elements']]\n",
    "\n",
    "resp404 = {}\n",
    "respNon404 = {}\n",
    "for id, url in zip(level0ids, urls):\n",
    "    try:\n",
    "        response = requests.head(url, allow_redirects=True, timeout=3)\n",
    "        if response.status_code == 404:\n",
    "            resp404[id] = url\n",
    "        else:\n",
    "            respNon404[id] = url\n",
    "    except requests.RequestException as e:\n",
    "        respNon404[id] = url\n",
    "\n",
    "\n",
    "res = {\"resp404\":resp404,\"respoNon404\":respNon404}\n",
    "\n",
    "with open(\"data.json\", \"w\") as f:\n",
    "    json.dump(res, f)\n",
    "\n",
    "\n"
   ]
  },
  {
   "cell_type": "code",
   "execution_count": 48,
   "metadata": {},
   "outputs": [
    {
     "name": "stdout",
     "output_type": "stream",
     "text": [
      "\u001b[1;39m{\n",
      "  \u001b[0m\u001b[1;34m\"resp404\"\u001b[0m\u001b[1;39m: \u001b[0m\u001b[1;39m{\n",
      "    \u001b[0m\u001b[1;34m\"n5896409288\"\u001b[0m\u001b[1;39m: \u001b[0m\u001b[0;32m\"https://piercingkosice.sk/\"\u001b[0m\u001b[1;39m\n",
      "  \u001b[1;39m}\u001b[0m\u001b[1;39m,\n",
      "  \u001b[0m\u001b[1;34m\"respoNon404\"\u001b[0m\u001b[1;39m: \u001b[0m\u001b[1;39m{\n",
      "    \u001b[0m\u001b[1;34m\"n431230691\"\u001b[0m\u001b[1;39m: \u001b[0m\u001b[0;32m\"http://www.penziongrand.eu/\"\u001b[0m\u001b[1;39m,\n",
      "    \u001b[0m\u001b[1;34m\"n690558827\"\u001b[0m\u001b[1;39m: \u001b[0m\u001b[0;32m\"http://www.penzionhradbova.sk/\"\u001b[0m\u001b[1;39m,\n",
      "    \u001b[0m\u001b[1;34m\"n691083815\"\u001b[0m\u001b[1;39m: \u001b[0m\u001b[0;32m\"http://www.stm-ke.sk/\"\u001b[0m\u001b[1;39m,\n",
      "    \u001b[0m\u001b[1;34m\"n1234610543\"\u001b[0m\u001b[1;39m: \u001b[0m\u001b[0;32m\"http://www.lofflermuzeum.sk/\"\u001b[0m\u001b[1;39m,\n",
      "    \u001b[0m\u001b[1;34m\"n1792890793\"\u001b[0m\u001b[1;39m: \u001b[0m\u001b[0;32m\"https://www.omv.sk/\"\u001b[0m\u001b[1;39m,\n",
      "    \u001b[0m\u001b[1;34m\"n4438781446\"\u001b[0m\u001b[1;39m: \u001b[0m\u001b[0;32m\"www.sperkychamelleon.sk\"\u001b[0m\u001b[1;39m,\n",
      "    \u001b[0m\u001b[1;34m\"n5366733664\"\u001b[0m\u001b[1;39m: \u001b[0m\u001b[0;32m\"http://www.tarzania.sk/\"\u001b[0m\u001b[1;39m,\n",
      "    \u001b[0m\u001b[1;34m\"n5926224949\"\u001b[0m\u001b[1;39m: \u001b[0m\u001b[0;32m\"http://centrumsebapoznania.sk/\"\u001b[0m\u001b[1;39m,\n",
      "    \u001b[0m\u001b[1;34m\"w27946546\"\u001b[0m\u001b[1;39m: \u001b[0m\u001b[0;32m\"https://www.lidl.sk/\"\u001b[0m\u001b[1;39m,\n",
      "    \u001b[0m\u001b[1;34m\"w48529496\"\u001b[0m\u001b[1;39m: \u001b[0m\u001b[0;32m\"http://www.camelliarestaurant.sk\"\u001b[0m\u001b[1;39m,\n",
      "    \u001b[0m\u001b[1;34m\"w50972118\"\u001b[0m\u001b[1;39m: \u001b[0m\u001b[0;32m\"http://www.socpoist.sk/\"\u001b[0m\u001b[1;39m,\n",
      "    \u001b[0m\u001b[1;34m\"w52867376\"\u001b[0m\u001b[1;39m: \u001b[0m\u001b[0;32m\"http://www.kybernetika.sk/\"\u001b[0m\u001b[1;39m,\n",
      "    \u001b[0m\u001b[1;34m\"w167319970\"\u001b[0m\u001b[1;39m: \u001b[0m\u001b[0;32m\"https://asko-nabytok.sk\"\u001b[0m\u001b[1;39m,\n",
      "    \u001b[0m\u001b[1;34m\"w168739947\"\u001b[0m\u001b[1;39m: \u001b[0m\u001b[0;32m\"http://www.unlp.sk/\"\u001b[0m\u001b[1;39m,\n",
      "    \u001b[0m\u001b[1;34m\"w169884567\"\u001b[0m\u001b[1;39m: \u001b[0m\u001b[0;32m\"https://www.pcexpres.sk/\"\u001b[0m\u001b[1;39m,\n",
      "    \u001b[0m\u001b[1;34m\"w170435269\"\u001b[0m\u001b[1;39m: \u001b[0m\u001b[0;32m\"http://www.aug.sk/klastor-sv-augustina/\"\u001b[0m\u001b[1;39m,\n",
      "    \u001b[0m\u001b[1;34m\"w508401868\"\u001b[0m\u001b[1;39m: \u001b[0m\u001b[0;32m\"http://www.aug.sk/kostol-sv-rity/\"\u001b[0m\u001b[1;39m,\n",
      "    \u001b[0m\u001b[1;34m\"w721131220\"\u001b[0m\u001b[1;39m: \u001b[0m\u001b[0;32m\"https://www.pcexpres.sk\"\u001b[0m\u001b[1;39m,\n",
      "    \u001b[0m\u001b[1;34m\"w724136224\"\u001b[0m\u001b[1;39m: \u001b[0m\u001b[0;32m\"https://www.pcexpres.sk\"\u001b[0m\u001b[1;39m,\n",
      "    \u001b[0m\u001b[1;34m\"w724291378\"\u001b[0m\u001b[1;39m: \u001b[0m\u001b[0;32m\"https://ikea.com/sk/\"\u001b[0m\u001b[1;39m,\n",
      "    \u001b[0m\u001b[1;34m\"r415772\"\u001b[0m\u001b[1;39m: \u001b[0m\u001b[0;32m\"http://www.unlp.sk/\"\u001b[0m\u001b[1;39m\n",
      "  \u001b[1;39m}\u001b[0m\u001b[1;39m\n",
      "\u001b[1;39m}\u001b[0m\n"
     ]
    }
   ],
   "source": [
    "!cat data.json | jq"
   ]
  }
 ],
 "metadata": {
  "kernelspec": {
   "display_name": "dev311_2",
   "language": "python",
   "name": "dev311_2"
  },
  "language_info": {
   "codemirror_mode": {
    "name": "ipython",
    "version": 3
   },
   "file_extension": ".py",
   "mimetype": "text/x-python",
   "name": "python",
   "nbconvert_exporter": "python",
   "pygments_lexer": "ipython3",
   "version": "3.11.11"
  }
 },
 "nbformat": 4,
 "nbformat_minor": 2
}
